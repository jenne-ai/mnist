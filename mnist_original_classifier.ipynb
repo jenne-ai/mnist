{
 "cells": [
  {
   "cell_type": "markdown",
   "id": "c65837f0",
   "metadata": {},
   "source": [
    "## MNIST Data straight Input (KERAS Doc. Example)"
   ]
  },
  {
   "cell_type": "code",
   "execution_count": 18,
   "id": "ba50671b",
   "metadata": {},
   "outputs": [],
   "source": [
    "# import libraries\n",
    "from sklearn.model_selection import train_test_split\n",
    "from scipy.io import loadmat\n",
    "import matplotlib.pyplot as plt\n",
    "\n",
    "import numpy as np\n",
    "import tensorflow as tf\n",
    "from tensorflow import keras\n",
    "from tensorflow.keras import layers"
   ]
  },
  {
   "cell_type": "code",
   "execution_count": 4,
   "id": "91ab85ec",
   "metadata": {},
   "outputs": [],
   "source": [
    "# load data, special format .mat\n",
    "mnist = loadmat(\"mnist-original.mat\")\n",
    "mnist_data = mnist[\"data\"].T\n",
    "mnist_label = mnist[\"label\"][0]"
   ]
  },
  {
   "cell_type": "code",
   "execution_count": 5,
   "id": "1fce0b7e",
   "metadata": {},
   "outputs": [
    {
     "data": {
      "text/plain": [
       "<matplotlib.image.AxesImage at 0x1a5cd0bc6d0>"
      ]
     },
     "execution_count": 5,
     "metadata": {},
     "output_type": "execute_result"
    },
    {
     "data": {
      "image/png": "[encoded data removed]",
      "text/plain": [
       "<Figure size 640x480 with 1 Axes>"
      ]
     },
     "metadata": {},
     "output_type": "display_data"
    }
   ],
   "source": [
    "# show numbers as examples\n",
    "data = mnist_data[70000-1].reshape(28,28)\n",
    "\n",
    " \n",
    "#plt.xticks(np.arange(0.0, 2.5, 1), np.arange(0.5, 2, 0.5))\n",
    "#plt.yticks(np.arange(2, -0.5, -1), np.arange(0.5, 2, 0.5))"
   ]
  },
  {
   "cell_type": "code",
   "execution_count": 9,
   "id": "11b8e851",
   "metadata": {},
   "outputs": [
    {
     "data": {
      "text/plain": [
       "70000"
      ]
     },
     "execution_count": 9,
     "metadata": {},
     "output_type": "execute_result"
    }
   ],
   "source": [
    "len(mnist_data)"
   ]
  },
  {
   "cell_type": "code",
   "execution_count": 6,
   "id": "9319fb50",
   "metadata": {},
   "outputs": [
    {
     "data": {
      "text/plain": [
       "array([0., 0., 0., 0., 0., 0., 0., 0., 0., 0.])"
      ]
     },
     "execution_count": 6,
     "metadata": {},
     "output_type": "execute_result"
    }
   ],
   "source": [
    "mnist_label[:10]"
   ]
  },
  {
   "cell_type": "code",
   "execution_count": 7,
   "id": "401c59ab",
   "metadata": {},
   "outputs": [
    {
     "data": {
      "text/plain": [
       "array([  0,   0,   0,   0,   0,   0,   0,   0,   0,   0,   0,   0,   0,\n",
       "         0,   0,   0,   0,   0,   0,   0,   0,   0,   0,   0,   0,   0,\n",
       "         0,   0,   0,   0,   0,   0,   0,   0,   0,   0,   0,   0,   0,\n",
       "         0,   0,   0,   0,   0,   0,   0,   0,   0,   0,   0,   0,   0,\n",
       "         0,   0,   0,   0,   0,   0,   0,   0,   0,   0,   0,   0,   0,\n",
       "         0,   0,   0,   0,   0,   0,   0,   0,   0,   0,   0,   0,   0,\n",
       "         0,   0,   0,   0,   0,   0,   0,   0,   0,   0,   0,   0,   0,\n",
       "         0,   0,   0,   0,   0,   0,   0,   0,   0,   0,   0,   0,   0,\n",
       "         0,   0,   0,   0,   0,   0,   0,   0,   0,   0,   0,   0,   0,\n",
       "         0,   0,   0,   0,   0,   0,   0,   0,   0,   0,   0,   0,  64,\n",
       "       253, 255,  63,   0,   0,   0,   0,   0,   0,   0,   0,   0,   0,\n",
       "         0,   0,   0,   0,   0,   0,   0,   0,   0,   0,   0,   0,   0,\n",
       "        96, 205, 251, 253, 205, 111,   4,   0,   0,   0,   0,   0,   0,\n",
       "         0,   0,   0,   0,   0,   0,   0,   0,   0,   0,   0,   0,   0,\n",
       "         0,  96, 189, 251, 251, 253, 251, 251,  31,   0,   0,   0,   0,\n",
       "         0,   0,   0,   0,   0,   0,   0,   0,   0,   0,   0,   0,   0,\n",
       "        16,  64, 223, 244, 251, 251, 211, 213, 251, 251,  31,   0,   0,\n",
       "         0,   0,   0,   0,   0,   0,   0,   0,   0,   0,   0,   0,   0,\n",
       "         0,  80, 181, 251, 253, 251, 251, 251,  94,  96, 251, 251,  31,\n",
       "         0,   0,   0,   0,   0,   0,   0,   0,   0,   0,   0,   0,   0,\n",
       "         0,   0,  92, 253, 253, 253, 255, 253, 253, 253,  95,  96, 253,\n",
       "       253,  31,   0,   0,   0,   0,   0,   0,   0,   0,   0,   0,   0,\n",
       "         0,   0,   0,  92, 236, 251, 243, 220, 233, 251, 251, 243,  82,\n",
       "        96, 251, 251,  31,   0,   0,   0,   0,   0,   0,   0,   0,   0,\n",
       "         0,   0,   0,   0,  80, 253, 251, 251, 188,   0,  96, 251, 251,\n",
       "       109,   0,  96, 251, 251,  31,   0,   0,   0,   0,   0,   0,   0,\n",
       "         0,   0,   0,   0,   0,  96, 240, 253, 243, 188,  42,   0,  96,\n",
       "       204, 109,   4,   0,  12, 197, 251,  31,   0,   0,   0,   0,   0,\n",
       "         0,   0,   0,   0,   0,   0,   0, 221, 251, 253, 121,   0,   0,\n",
       "         0,  36,  23,   0,   0,   0,   0, 190, 251,  31,   0,   0,   0,\n",
       "         0,   0,   0,   0,   0,   0,   0,   0,  48, 234, 253,   0,   0,\n",
       "         0,   0,   0,   0,   0,   0,   0,   0,   0, 191, 253,  31,   0,\n",
       "         0,   0,   0,   0,   0,   0,   0,   0,   0,  44, 221, 251, 251,\n",
       "         0,   0,   0,   0,   0,   0,   0,   0,   0,   0,  12, 197, 251,\n",
       "        31,   0,   0,   0,   0,   0,   0,   0,   0,   0,   0, 190, 251,\n",
       "       251, 251,   0,   0,   0,   0,   0,   0,   0,   0,   0,   0,  96,\n",
       "       251, 251,  31,   0,   0,   0,   0,   0,   0,   0,   0,   0,   0,\n",
       "       190, 251, 251, 113,   0,   0,   0,   0,   0,   0,   0,   0,   0,\n",
       "        40, 234, 251, 219,  23,   0,   0,   0,   0,   0,   0,   0,   0,\n",
       "         0,   0, 190, 251, 251,  94,   0,   0,   0,   0,   0,   0,   0,\n",
       "         0,  40, 217, 253, 231,  47,   0,   0,   0,   0,   0,   0,   0,\n",
       "         0,   0,   0,   0, 191, 253, 253, 253,   0,   0,   0,   0,   0,\n",
       "         0,  12, 174, 253, 253, 219,  39,   0,   0,   0,   0,   0,   0,\n",
       "         0,   0,   0,   0,   0,   0,  67, 236, 251, 251, 191, 190, 111,\n",
       "        72, 190, 191, 197, 251, 243, 121,  39,   0,   0,   0,   0,   0,\n",
       "         0,   0,   0,   0,   0,   0,   0,   0,   0,  63, 236, 251, 253,\n",
       "       251, 251, 251, 251, 253, 251, 188,  94,   0,   0,   0,   0,   0,\n",
       "         0,   0,   0,   0,   0,   0,   0,   0,   0,   0,   0,   0,  27,\n",
       "       129, 253, 251, 251, 251, 251, 229, 168,  15,   0,   0,   0,   0,\n",
       "         0,   0,   0,   0,   0,   0,   0,   0,   0,   0,   0,   0,   0,\n",
       "         0,   0,   0,  95, 212, 251, 211,  94,  59,   0,   0,   0,   0,\n",
       "         0,   0,   0,   0,   0,   0,   0,   0,   0,   0,   0,   0,   0,\n",
       "         0,   0,   0,   0,   0,   0,   0,   0,   0,   0,   0,   0,   0,\n",
       "         0,   0,   0,   0,   0,   0,   0,   0,   0,   0,   0,   0,   0,\n",
       "         0,   0,   0,   0,   0,   0,   0,   0,   0,   0,   0,   0,   0,\n",
       "         0,   0,   0,   0,   0,   0,   0,   0,   0,   0,   0,   0,   0,\n",
       "         0,   0,   0,   0,   0,   0,   0,   0,   0,   0,   0,   0,   0,\n",
       "         0,   0,   0,   0,   0,   0,   0,   0,   0,   0,   0,   0,   0,\n",
       "         0,   0,   0,   0,   0,   0,   0,   0,   0,   0,   0,   0,   0,\n",
       "         0,   0,   0,   0,   0,   0,   0,   0,   0,   0,   0,   0,   0,\n",
       "         0,   0,   0,   0], dtype=uint8)"
      ]
     },
     "execution_count": 7,
     "metadata": {},
     "output_type": "execute_result"
    }
   ],
   "source": [
    "mnist_data[1]"
   ]
  },
  {
   "cell_type": "code",
   "execution_count": 40,
   "id": "38a1845d",
   "metadata": {},
   "outputs": [],
   "source": [
    "# split data set into training and test data, together with thier labels\n",
    "X_train, X_test, y_train, y_test = train_test_split(mnist_data, mnist_label, test_size=0.30, random_state=42)"
   ]
  },
  {
   "cell_type": "code",
   "execution_count": 41,
   "id": "3a6af305",
   "metadata": {},
   "outputs": [],
   "source": [
    "# normalization of data for better comparison/training\n",
    "X_train, X_test = X_train.astype(\"float32\")/255, X_test.astype(\"float32\")/255"
   ]
  },
  {
   "cell_type": "code",
   "execution_count": 45,
   "id": "26acd33a",
   "metadata": {},
   "outputs": [
    {
     "data": {
      "text/plain": [
       "array([0.        , 0.        , 0.        , 0.        , 0.        ,\n",
       "       0.        , 0.        , 0.        , 0.        , 0.        ,\n",
       "       0.        , 0.        , 0.        , 0.        , 0.        ,\n",
       "       0.        , 0.        , 0.        , 0.        , 0.        ,\n",
       "       0.        , 0.        , 0.        , 0.        , 0.        ,\n",
       "       0.        , 0.        , 0.        , 0.        , 0.        ,\n",
       "       0.        , 0.        , 0.        , 0.        , 0.        ,\n",
       "       0.        , 0.        , 0.        , 0.        , 0.        ,\n",
       "       0.        , 0.        , 0.        , 0.        , 0.        ,\n",
       "       0.        , 0.        , 0.        , 0.        , 0.        ,\n",
       "       0.        , 0.        , 0.        , 0.        , 0.        ,\n",
       "       0.        , 0.        , 0.        , 0.        , 0.        ,\n",
       "       0.        , 0.        , 0.        , 0.        , 0.        ,\n",
       "       0.        , 0.        , 0.        , 0.        , 0.        ,\n",
       "       0.        , 0.        , 0.        , 0.        , 0.        ,\n",
       "       0.        , 0.        , 0.        , 0.        , 0.        ,\n",
       "       0.        , 0.        , 0.        , 0.        , 0.        ,\n",
       "       0.        , 0.        , 0.        , 0.        , 0.        ,\n",
       "       0.        , 0.        , 0.        , 0.        , 0.        ,\n",
       "       0.        , 0.        , 0.        , 0.        , 0.        ,\n",
       "       0.        , 0.        , 0.        , 0.        , 0.        ,\n",
       "       0.        , 0.        , 0.        , 0.        , 0.        ,\n",
       "       0.        , 0.        , 0.        , 0.        , 0.        ,\n",
       "       0.        , 0.        , 0.        , 0.        , 0.        ,\n",
       "       0.        , 0.        , 0.        , 0.        , 0.        ,\n",
       "       0.        , 0.        , 0.        , 0.        , 0.        ,\n",
       "       0.        , 0.        , 0.        , 0.        , 0.        ,\n",
       "       0.        , 0.        , 0.        , 0.        , 0.        ,\n",
       "       0.        , 0.        , 0.        , 0.        , 0.        ,\n",
       "       0.        , 0.        , 0.        , 0.        , 0.        ,\n",
       "       0.        , 0.        , 0.        , 0.        , 0.20784314,\n",
       "       0.6392157 , 0.6392157 , 0.94509804, 0.7137255 , 0.6392157 ,\n",
       "       1.        , 0.7921569 , 0.3372549 , 0.16470589, 0.        ,\n",
       "       0.        , 0.        , 0.        , 0.        , 0.        ,\n",
       "       0.        , 0.        , 0.        , 0.        , 0.        ,\n",
       "       0.        , 0.        , 0.        , 0.        , 0.        ,\n",
       "       0.23529412, 0.72156864, 0.972549  , 0.99607843, 0.99215686,\n",
       "       0.99215686, 0.99215686, 0.99215686, 0.99607843, 0.99215686,\n",
       "       0.99215686, 0.76862746, 0.        , 0.        , 0.        ,\n",
       "       0.        , 0.        , 0.        , 0.        , 0.        ,\n",
       "       0.        , 0.        , 0.        , 0.        , 0.        ,\n",
       "       0.        , 0.04313726, 0.42352942, 0.972549  , 0.99215686,\n",
       "       0.99215686, 0.8509804 , 0.5176471 , 0.44705883, 0.14117648,\n",
       "       0.36862746, 0.99607843, 0.99215686, 0.99215686, 0.92156863,\n",
       "       0.        , 0.        , 0.        , 0.        , 0.        ,\n",
       "       0.        , 0.        , 0.        , 0.        , 0.        ,\n",
       "       0.        , 0.        , 0.        , 0.        , 0.4392157 ,\n",
       "       0.99215686, 0.99215686, 0.93333334, 0.4392157 , 0.        ,\n",
       "       0.        , 0.        , 0.05882353, 0.78039217, 0.96862745,\n",
       "       0.99215686, 0.99215686, 0.6392157 , 0.        , 0.        ,\n",
       "       0.        , 0.        , 0.        , 0.        , 0.        ,\n",
       "       0.        , 0.        , 0.        , 0.        , 0.        ,\n",
       "       0.        , 0.        , 0.6392157 , 0.99215686, 0.8901961 ,\n",
       "       0.16078432, 0.        , 0.        , 0.        , 0.        ,\n",
       "       0.12156863, 0.20784314, 0.7647059 , 0.99215686, 0.9411765 ,\n",
       "       0.23921569, 0.        , 0.        , 0.        , 0.        ,\n",
       "       0.        , 0.        , 0.        , 0.        , 0.        ,\n",
       "       0.        , 0.        , 0.        , 0.        , 0.        ,\n",
       "       0.6392157 , 0.99607843, 0.8509804 , 0.        , 0.        ,\n",
       "       0.        , 0.        , 0.        , 0.38039216, 0.89411765,\n",
       "       1.        , 0.93333334, 0.35686275, 0.        , 0.        ,\n",
       "       0.        , 0.        , 0.        , 0.        , 0.        ,\n",
       "       0.        , 0.        , 0.        , 0.        , 0.        ,\n",
       "       0.        , 0.        , 0.        , 0.6392157 , 0.99215686,\n",
       "       0.84705883, 0.        , 0.        , 0.        , 0.04705882,\n",
       "       0.69803923, 0.9764706 , 0.99215686, 0.85490197, 0.23137255,\n",
       "       0.        , 0.        , 0.        , 0.        , 0.        ,\n",
       "       0.        , 0.        , 0.        , 0.        , 0.        ,\n",
       "       0.        , 0.        , 0.        , 0.        , 0.        ,\n",
       "       0.        , 0.5882353 , 0.99215686, 0.92156863, 0.28627452,\n",
       "       0.        , 0.24705882, 0.85882354, 0.99215686, 0.99215686,\n",
       "       0.7607843 , 0.05098039, 0.        , 0.        , 0.        ,\n",
       "       0.        , 0.        , 0.        , 0.        , 0.        ,\n",
       "       0.        , 0.        , 0.        , 0.        , 0.        ,\n",
       "       0.        , 0.        , 0.        , 0.        , 0.26666668,\n",
       "       0.9843137 , 0.99215686, 0.8745098 , 0.5529412 , 0.99607843,\n",
       "       0.99215686, 0.95686275, 0.49019608, 0.0627451 , 0.        ,\n",
       "       0.        , 0.        , 0.        , 0.        , 0.        ,\n",
       "       0.        , 0.        , 0.        , 0.        , 0.        ,\n",
       "       0.        , 0.        , 0.        , 0.        , 0.        ,\n",
       "       0.        , 0.        , 0.        , 0.5411765 , 0.99215686,\n",
       "       0.99215686, 0.99215686, 0.99607843, 0.9137255 , 0.19215687,\n",
       "       0.        , 0.        , 0.        , 0.        , 0.        ,\n",
       "       0.        , 0.        , 0.        , 0.        , 0.        ,\n",
       "       0.        , 0.        , 0.        , 0.        , 0.        ,\n",
       "       0.        , 0.        , 0.        , 0.        , 0.        ,\n",
       "       0.08235294, 0.5647059 , 0.99607843, 0.99607843, 0.99607843,\n",
       "       1.        , 0.07058824, 0.        , 0.        , 0.        ,\n",
       "       0.        , 0.        , 0.        , 0.        , 0.        ,\n",
       "       0.        , 0.        , 0.        , 0.        , 0.        ,\n",
       "       0.        , 0.        , 0.        , 0.        , 0.        ,\n",
       "       0.        , 0.32156864, 0.5686275 , 0.94509804, 0.99215686,\n",
       "       0.9607843 , 0.94509804, 0.99215686, 0.99607843, 0.14509805,\n",
       "       0.        , 0.        , 0.        , 0.        , 0.        ,\n",
       "       0.        , 0.        , 0.        , 0.        , 0.        ,\n",
       "       0.        , 0.        , 0.        , 0.        , 0.        ,\n",
       "       0.        , 0.        , 0.        , 0.43137255, 0.9607843 ,\n",
       "       0.99215686, 0.99607843, 0.99215686, 0.61960787, 0.16078432,\n",
       "       0.9490196 , 0.99607843, 0.8352941 , 0.07058824, 0.        ,\n",
       "       0.        , 0.        , 0.        , 0.        , 0.        ,\n",
       "       0.        , 0.        , 0.        , 0.        , 0.        ,\n",
       "       0.        , 0.        , 0.        , 0.        , 0.        ,\n",
       "       0.11764706, 0.8352941 , 0.99215686, 0.99215686, 0.87058824,\n",
       "       0.49019608, 0.03137255, 0.        , 0.2784314 , 0.99607843,\n",
       "       0.99215686, 0.31764707, 0.        , 0.        , 0.        ,\n",
       "       0.        , 0.        , 0.        , 0.        , 0.        ,\n",
       "       0.        , 0.        , 0.        , 0.        , 0.        ,\n",
       "       0.        , 0.        , 0.        , 0.5686275 , 0.99215686,\n",
       "       0.99215686, 0.8627451 , 0.20392157, 0.        , 0.        ,\n",
       "       0.        , 0.        , 0.6117647 , 0.99215686, 0.8980392 ,\n",
       "       0.07843138, 0.        , 0.        , 0.        , 0.        ,\n",
       "       0.        , 0.        , 0.        , 0.        , 0.        ,\n",
       "       0.        , 0.        , 0.        , 0.        , 0.        ,\n",
       "       0.        , 0.9254902 , 0.99607843, 0.84705883, 0.23137255,\n",
       "       0.        , 0.        , 0.        , 0.        , 0.        ,\n",
       "       0.10588235, 0.9490196 , 0.99607843, 0.21176471, 0.        ,\n",
       "       0.        , 0.        , 0.        , 0.        , 0.        ,\n",
       "       0.        , 0.        , 0.        , 0.        , 0.        ,\n",
       "       0.        , 0.        , 0.        , 0.        , 0.7176471 ,\n",
       "       0.99215686, 0.3137255 , 0.        , 0.        , 0.        ,\n",
       "       0.        , 0.        , 0.        , 0.        , 0.92156863,\n",
       "       0.99215686, 0.21176471, 0.        , 0.        , 0.        ,\n",
       "       0.        , 0.        , 0.        , 0.        , 0.        ,\n",
       "       0.        , 0.        , 0.        , 0.        , 0.        ,\n",
       "       0.        , 0.        , 0.15686275, 0.87058824, 0.90588236,\n",
       "       0.37254903, 0.10588235, 0.        , 0.        , 0.        ,\n",
       "       0.        , 0.19607843, 0.95686275, 0.99215686, 0.21176471,\n",
       "       0.        , 0.        , 0.        , 0.        , 0.        ,\n",
       "       0.        , 0.        , 0.        , 0.        , 0.        ,\n",
       "       0.        , 0.        , 0.        , 0.        , 0.        ,\n",
       "       0.        , 0.28627452, 0.8509804 , 0.99215686, 0.93333334,\n",
       "       0.5764706 , 0.3764706 , 0.3529412 , 0.42745098, 0.91764706,\n",
       "       0.99215686, 0.90588236, 0.12156863, 0.        , 0.        ,\n",
       "       0.        , 0.        , 0.        , 0.        , 0.        ,\n",
       "       0.        , 0.        , 0.        , 0.        , 0.        ,\n",
       "       0.        , 0.        , 0.        , 0.        , 0.        ,\n",
       "       0.02352941, 0.53333336, 0.99607843, 0.99215686, 0.99215686,\n",
       "       0.99215686, 0.99215686, 0.99607843, 0.9137255 , 0.19215687,\n",
       "       0.        , 0.        , 0.        , 0.        , 0.        ,\n",
       "       0.        , 0.        , 0.        , 0.        , 0.        ,\n",
       "       0.        , 0.        , 0.        , 0.        , 0.        ,\n",
       "       0.        , 0.        , 0.        , 0.        , 0.        ,\n",
       "       0.        , 0.        , 0.        , 0.        , 0.        ,\n",
       "       0.        , 0.        , 0.        , 0.        , 0.        ,\n",
       "       0.        , 0.        , 0.        , 0.        , 0.        ,\n",
       "       0.        , 0.        , 0.        , 0.        , 0.        ,\n",
       "       0.        , 0.        , 0.        , 0.        , 0.        ,\n",
       "       0.        , 0.        , 0.        , 0.        , 0.        ,\n",
       "       0.        , 0.        , 0.        , 0.        , 0.        ,\n",
       "       0.        , 0.        , 0.        , 0.        , 0.        ,\n",
       "       0.        , 0.        , 0.        , 0.        , 0.        ,\n",
       "       0.        , 0.        , 0.        , 0.        , 0.        ,\n",
       "       0.        , 0.        , 0.        , 0.        , 0.        ,\n",
       "       0.        , 0.        , 0.        , 0.        , 0.        ,\n",
       "       0.        , 0.        , 0.        , 0.        , 0.        ,\n",
       "       0.        , 0.        , 0.        , 0.        , 0.        ,\n",
       "       0.        , 0.        , 0.        , 0.        ], dtype=float32)"
      ]
     },
     "execution_count": 45,
     "metadata": {},
     "output_type": "execute_result"
    }
   ],
   "source": [
    "X_test[1]"
   ]
  },
  {
   "cell_type": "code",
   "execution_count": 71,
   "id": "369ea132",
   "metadata": {},
   "outputs": [
    {
     "name": "stdout",
     "output_type": "stream",
     "text": [
      "Model: \"mnist_model\"\n",
      "_________________________________________________________________\n",
      " Layer (type)                Output Shape              Param #   \n",
      "=================================================================\n",
      " input_12 (InputLayer)       [(None, 784)]             0         \n",
      "                                                                 \n",
      " dense_33 (Dense)            (None, 64)                50240     \n",
      "                                                                 \n",
      " dense_34 (Dense)            (None, 64)                4160      \n",
      "                                                                 \n",
      " dense_35 (Dense)            (None, 10)                650       \n",
      "                                                                 \n",
      "=================================================================\n",
      "Total params: 55,050\n",
      "Trainable params: 55,050\n",
      "Non-trainable params: 0\n",
      "_________________________________________________________________\n"
     ]
    }
   ],
   "source": [
    "# build model for deep learning\n",
    "inputs = keras.Input(shape=(len(mnist_data[0]),))\n",
    "dense = layers.Dense(64,activation=\"relu\") # try adding .(inputs) directly here\n",
    "x = dense(inputs)\n",
    "x = layers.Dense(64,activation=\"relu\")(x)\n",
    "outputs = layers.Dense(10)(x)\n",
    "#initialize model\n",
    "model = keras.Model(inputs=inputs,outputs=outputs,name=\"mnist_model\")\n",
    "model.summary()\n",
    "\n",
    "model.compile(loss= keras.losses.SparseCategoricalCrossentropy(from_logits=True),\n",
    "             optimizer=keras.optimizers.RMSprop(),\n",
    "             metrics = [\"accuracy\"]\n",
    "             )"
   ]
  },
  {
   "cell_type": "code",
   "execution_count": 21,
   "id": "86b58167",
   "metadata": {},
   "outputs": [
    {
     "name": "stdout",
     "output_type": "stream",
     "text": [
      "You must install pydot (`pip install pydot`) and install graphviz (see instructions at https://graphviz.gitlab.io/download/) for plot_model/model_to_dot to work.\n"
     ]
    }
   ],
   "source": [
    "#keras.utils.plot_model(model, \"my_first_model_with_shape_info.png\", show_shapes=True)"
   ]
  },
  {
   "cell_type": "code",
   "execution_count": 72,
   "id": "95c21a39",
   "metadata": {},
   "outputs": [
    {
     "name": "stdout",
     "output_type": "stream",
     "text": [
      "Epoch 1/2\n",
      "613/613 [==============================] - 2s 2ms/step - loss: 0.3665 - accuracy: 0.8977 - val_loss: 0.2255 - val_accuracy: 0.9314\n",
      "Epoch 2/2\n",
      "613/613 [==============================] - 1s 2ms/step - loss: 0.1680 - accuracy: 0.9500 - val_loss: 0.1467 - val_accuracy: 0.9562\n",
      "657/657 [==============================] - 1s 1ms/step - loss: 0.1435 - accuracy: 0.9577\n",
      "Test loss:  0.14351385831832886\n",
      "Test accuracy:  0.9577142596244812\n"
     ]
    }
   ],
   "source": [
    "# train model\n",
    "model.fit(X_train,y_train,batch_size=64,epochs=2,validation_split=0.2)\n",
    "#evaluate model\n",
    "test_scores = model.evaluate(X_test,y_test)\n",
    "print(\"Test loss: \",test_scores[0])\n",
    "print(\"Test accuracy: \",test_scores[1])"
   ]
  },
  {
   "cell_type": "code",
   "execution_count": 84,
   "id": "377f0050",
   "metadata": {},
   "outputs": [
    {
     "name": "stdout",
     "output_type": "stream",
     "text": [
      "1/1 [==============================] - 0s 65ms/step\n"
     ]
    },
    {
     "data": {
      "text/plain": [
       "array([[-5.4281983 , -9.30669   , -2.3205483 ,  0.8700868 , -5.5093026 ,\n",
       "        -0.12808305, -6.5255446 , -9.992824  , 10.448566  , -1.8158574 ]],\n",
       "      dtype=float32)"
      ]
     },
     "execution_count": 84,
     "metadata": {},
     "output_type": "execute_result"
    }
   ],
   "source": [
    "# make predictions\n",
    "prediction = model.predict(X_test[1:2])\n",
    "prediction"
   ]
  },
  {
   "cell_type": "code",
   "execution_count": 85,
   "id": "abb9cf13",
   "metadata": {},
   "outputs": [
    {
     "data": {
      "text/plain": [
       "8.0"
      ]
     },
     "execution_count": 85,
     "metadata": {},
     "output_type": "execute_result"
    }
   ],
   "source": [
    "y_test[1]"
   ]
  },
  {
   "cell_type": "markdown",
   "id": "addc8c9a",
   "metadata": {},
   "source": [
    "## MNIST Data as Pictures Input"
   ]
  },
  {
   "cell_type": "code",
   "execution_count": 1,
   "id": "17026105",
   "metadata": {},
   "outputs": [],
   "source": [
    "# import libraries\n",
    "from sklearn.model_selection import train_test_split\n",
    "from scipy.io import loadmat\n",
    "import matplotlib.pyplot as plt\n",
    "\n",
    "import numpy as np\n",
    "import tensorflow as tf\n",
    "from tensorflow import keras\n",
    "from tensorflow.keras import layers"
   ]
  },
  {
   "cell_type": "code",
   "execution_count": 3,
   "id": "1d18e48c",
   "metadata": {},
   "outputs": [],
   "source": [
    "# load data, special format .mat\n",
    "mnist = loadmat(\"mnist-original.mat\")\n",
    "mnist_data = mnist[\"data\"].T\n",
    "mnist_label = mnist[\"label\"][0]\n"
   ]
  },
  {
   "cell_type": "code",
   "execution_count": 23,
   "id": "57923e11",
   "metadata": {},
   "outputs": [],
   "source": [
    "# reshape to have 28x28 Pixel pictures as Input\n",
    "data = mnist_data.reshape(mnist_data.shape[0],28,28)\n",
    "\n",
    "# split data set into training and test data, together with thier labels\n",
    "X_train, X_test, y_train, y_test = train_test_split(data, mnist_label, test_size=0.30, random_state=42)\n",
    "\n",
    "# normalization of data for better comparison/training\n",
    "X_train, X_test = X_train.astype(\"float32\")/255, X_test.astype(\"float32\")/255"
   ]
  },
  {
   "cell_type": "code",
   "execution_count": 24,
   "id": "85c0f066",
   "metadata": {},
   "outputs": [
    {
     "name": "stdout",
     "output_type": "stream",
     "text": [
      "7.0\n"
     ]
    },
    {
     "data": {
      "text/plain": [
       "<matplotlib.image.AxesImage at 0x2179544d9a0>"
      ]
     },
     "execution_count": 24,
     "metadata": {},
     "output_type": "execute_result"
    },
    {
     "data": {
      "image/png": "[encoded data removed]",
      "text/plain": [
       "<Figure size 640x480 with 1 Axes>"
      ]
     },
     "metadata": {},
     "output_type": "display_data"
    }
   ],
   "source": [
    "i=10000\n",
    "print(y_train[i])\n",
    "plt.imshow(X_train[i], interpolation='nearest')"
   ]
  },
  {
   "cell_type": "code",
   "execution_count": 26,
   "id": "6f6625a6",
   "metadata": {},
   "outputs": [
    {
     "data": {
      "text/plain": [
       "70000"
      ]
     },
     "execution_count": 26,
     "metadata": {},
     "output_type": "execute_result"
    }
   ],
   "source": [
    "len(data)"
   ]
  },
  {
   "cell_type": "code",
   "execution_count": 66,
   "id": "8da42d8c",
   "metadata": {},
   "outputs": [
    {
     "name": "stdout",
     "output_type": "stream",
     "text": [
      "Model: \"mnist_img\"\n",
      "_________________________________________________________________\n",
      " Layer (type)                Output Shape              Param #   \n",
      "=================================================================\n",
      " input_26 (InputLayer)       [(None, 28, 28, 1)]       0         \n",
      "                                                                 \n",
      " conv2d_33 (Conv2D)          (None, 28, 28, 32)        320       \n",
      "                                                                 \n",
      " max_pooling2d_13 (MaxPoolin  (None, 14, 14, 32)       0         \n",
      " g2D)                                                            \n",
      "                                                                 \n",
      " flatten_7 (Flatten)         (None, 6272)              0         \n",
      "                                                                 \n",
      " dense_8 (Dense)             (None, 100)               627300    \n",
      "                                                                 \n",
      " dense_9 (Dense)             (None, 10)                1010      \n",
      "                                                                 \n",
      "=================================================================\n",
      "Total params: 628,630\n",
      "Trainable params: 628,630\n",
      "Non-trainable params: 0\n",
      "_________________________________________________________________\n"
     ]
    }
   ],
   "source": [
    "# build model for deep learning\n",
    "inputs = keras.Input(shape=(data[0].shape[0],data[0].shape[1],1))\n",
    "x = inputs#tf.random.normal(inputs)\n",
    "conv = layers.Conv2D(32,(3,3),activation=\"relu\",input_shape=(data[0].shape[0],data[0].shape[1],1),padding=\"same\",kernel_initializer='he_uniform' )(x)\n",
    "#conv.shape\n",
    "x = layers.MaxPooling2D(2,2)(conv)\n",
    "x = layers.Flatten()(x)\n",
    "#x.shape\n",
    "dense = layers.Dense(100,activation=\"relu\",kernel_initializer='he_uniform')(x) \n",
    "\n",
    "outputs = layers.Dense(10,activation=\"softmax\")(dense)\n",
    "outputs.shape\n",
    "##initialize model\n",
    "model = keras.Model(inputs=inputs,outputs=outputs,name=\"mnist_img\")\n",
    "model.summary()\n",
    "\n",
    "model.compile(loss= keras.losses.SparseCategoricalCrossentropy(from_logits=True),\n",
    "             optimizer=keras.optimizers.SGD(learning_rate=0.01, momentum=0.9),\n",
    "             metrics = [\"accuracy\"]\n",
    "             )"
   ]
  },
  {
   "cell_type": "code",
   "execution_count": 65,
   "id": "eb040bb3",
   "metadata": {},
   "outputs": [
    {
     "data": {
      "text/plain": [
       "(21000, 28, 28)"
      ]
     },
     "execution_count": 65,
     "metadata": {},
     "output_type": "execute_result"
    }
   ],
   "source": [
    "X_test.shape"
   ]
  },
  {
   "cell_type": "code",
   "execution_count": 67,
   "id": "5a2cef0e",
   "metadata": {},
   "outputs": [
    {
     "name": "stdout",
     "output_type": "stream",
     "text": [
      "Epoch 1/2\n",
      "613/613 [==============================] - 9s 15ms/step - loss: 0.2425 - accuracy: 0.9267 - val_loss: 0.1204 - val_accuracy: 0.9641\n",
      "Epoch 2/2\n",
      "613/613 [==============================] - 9s 15ms/step - loss: 0.0870 - accuracy: 0.9744 - val_loss: 0.0837 - val_accuracy: 0.9757\n",
      "657/657 [==============================] - 2s 3ms/step - loss: 0.0806 - accuracy: 0.9760\n",
      "Test loss:  0.0805879458785057\n",
      "Test accuracy:  0.9760000109672546\n"
     ]
    }
   ],
   "source": [
    "# train model\n",
    "model.fit(X_train,y_train,batch_size=64,epochs=2,validation_split=0.2)\n",
    "#evaluate model\n",
    "test_scores = model.evaluate(X_test,y_test)\n",
    "print(\"Test loss: \",test_scores[0])\n",
    "print(\"Test accuracy: \",test_scores[1])"
   ]
  },
  {
   "cell_type": "code",
   "execution_count": 63,
   "id": "e3dc4003",
   "metadata": {},
   "outputs": [
    {
     "name": "stdout",
     "output_type": "stream",
     "text": [
      "1/1 [==============================] - 0s 128ms/step\n"
     ]
    },
    {
     "data": {
      "text/plain": [
       "array([[2.3524926e-07, 7.0132933e-07, 3.3362372e-05, 7.6183416e-05,\n",
       "        7.9541837e-07, 4.3242998e-04, 7.3835622e-07, 1.0360923e-08,\n",
       "        9.9945349e-01, 2.0281677e-06]], dtype=float32)"
      ]
     },
     "execution_count": 63,
     "metadata": {},
     "output_type": "execute_result"
    }
   ],
   "source": [
    "# make predictions\n",
    "prediction = model.predict(X_test[1:2])\n",
    "prediction"
   ]
  },
  {
   "cell_type": "code",
   "execution_count": 70,
   "id": "e7083648",
   "metadata": {},
   "outputs": [
    {
     "name": "stdout",
     "output_type": "stream",
     "text": [
      "657/657 [==============================] - 2s 3ms/step\n",
      "[[9.71748660e-01 4.24989375e-04 0.00000000e+00 0.00000000e+00\n",
      "  0.00000000e+00 5.21104742e-04 1.92771084e-03 0.00000000e+00\n",
      "  3.74006545e-03 1.94552529e-03]\n",
      " [0.00000000e+00 9.79175521e-01 2.43546030e-03 1.42382534e-03\n",
      "  4.95049505e-04 0.00000000e+00 0.00000000e+00 1.79775281e-03\n",
      "  9.35016363e-04 4.86381323e-04]\n",
      " [6.81928885e-03 1.10497238e-02 9.90258159e-01 5.22069293e-03\n",
      "  1.48514851e-03 0.00000000e+00 1.44578313e-03 7.19101124e-03\n",
      "  1.30902291e-02 2.91828794e-03]\n",
      " [4.87092060e-04 4.24989375e-04 1.94836824e-03 9.75794969e-01\n",
      "  0.00000000e+00 3.64773319e-03 0.00000000e+00 4.04494382e-03\n",
      "  7.48013090e-03 1.94552529e-03]\n",
      " [1.94836824e-03 1.27496813e-03 4.87092060e-04 0.00000000e+00\n",
      "  9.86633663e-01 0.00000000e+00 3.37349398e-03 2.69662921e-03\n",
      "  3.74006545e-03 1.21595331e-02]\n",
      " [4.87092060e-03 1.27496813e-03 4.87092060e-04 5.69530138e-03\n",
      "  4.95049505e-04 9.89577905e-01 3.37349398e-03 8.98876404e-04\n",
      "  1.26227209e-02 4.37743191e-03]\n",
      " [6.81928885e-03 1.69995750e-03 0.00000000e+00 4.74608448e-04\n",
      "  1.98019802e-03 2.08441897e-03 9.88915663e-01 0.00000000e+00\n",
      "  6.07760636e-03 0.00000000e+00]\n",
      " [9.74184121e-04 1.69995750e-03 3.89673648e-03 3.79686758e-03\n",
      "  2.47524752e-03 0.00000000e+00 4.81927711e-04 9.73033708e-01\n",
      "  2.80504909e-03 3.40466926e-03]\n",
      " [4.87092060e-03 1.27496813e-03 4.87092060e-04 2.84765069e-03\n",
      "  2.47524752e-03 2.08441897e-03 4.81927711e-04 4.49438202e-04\n",
      "  9.39691445e-01 5.35019455e-03]\n",
      " [1.46127618e-03 1.69995750e-03 0.00000000e+00 4.74608448e-03\n",
      "  3.96039604e-03 2.08441897e-03 0.00000000e+00 9.88764045e-03\n",
      "  9.81767181e-03 9.67412451e-01]]\n"
     ]
    }
   ],
   "source": [
    "from sklearn.metrics import confusion_matrix\n",
    "\n",
    "#Predict\n",
    "y_prediction = model.predict(X_test)\n",
    "y_prediction = np.argmax (y_prediction, axis = 1)\n",
    "#Create confusion matrix and normalizes it over predicted (columns)\n",
    "result = confusion_matrix(y_test, y_prediction , normalize='pred')\n",
    "print(result)"
   ]
  },
  {
   "cell_type": "code",
   "execution_count": 75,
   "id": "581309e3",
   "metadata": {},
   "outputs": [
    {
     "data": {
      "text/plain": [
       "<matplotlib.image.AxesImage at 0x2179509a790>"
      ]
     },
     "execution_count": 75,
     "metadata": {},
     "output_type": "execute_result"
    },
    {
     "data": {
      "image/png": "[encoded data removed]",
      "text/plain": [
       "<Figure size 640x480 with 1 Axes>"
      ]
     },
     "metadata": {},
     "output_type": "display_data"
    }
   ],
   "source": [
    "plt.imshow(result, interpolation='nearest')"
   ]
  },
  {
   "cell_type": "code",
   "execution_count": 74,
   "id": "8810fc18",
   "metadata": {},
   "outputs": [
    {
     "data": {
      "text/plain": [
       "array([[9.71748660e+02, 4.24989375e-01, 0.00000000e+00, 0.00000000e+00,\n",
       "        0.00000000e+00, 5.21104742e-01, 1.92771084e+00, 0.00000000e+00,\n",
       "        3.74006545e+00, 1.94552529e+00],\n",
       "       [0.00000000e+00, 9.79175521e+02, 2.43546030e+00, 1.42382534e+00,\n",
       "        4.95049505e-01, 0.00000000e+00, 0.00000000e+00, 1.79775281e+00,\n",
       "        9.35016363e-01, 4.86381323e-01],\n",
       "       [6.81928885e+00, 1.10497238e+01, 9.90258159e+02, 5.22069293e+00,\n",
       "        1.48514851e+00, 0.00000000e+00, 1.44578313e+00, 7.19101124e+00,\n",
       "        1.30902291e+01, 2.91828794e+00],\n",
       "       [4.87092060e-01, 4.24989375e-01, 1.94836824e+00, 9.75794969e+02,\n",
       "        0.00000000e+00, 3.64773319e+00, 0.00000000e+00, 4.04494382e+00,\n",
       "        7.48013090e+00, 1.94552529e+00],\n",
       "       [1.94836824e+00, 1.27496813e+00, 4.87092060e-01, 0.00000000e+00,\n",
       "        9.86633663e+02, 0.00000000e+00, 3.37349398e+00, 2.69662921e+00,\n",
       "        3.74006545e+00, 1.21595331e+01],\n",
       "       [4.87092060e+00, 1.27496813e+00, 4.87092060e-01, 5.69530138e+00,\n",
       "        4.95049505e-01, 9.89577905e+02, 3.37349398e+00, 8.98876404e-01,\n",
       "        1.26227209e+01, 4.37743191e+00],\n",
       "       [6.81928885e+00, 1.69995750e+00, 0.00000000e+00, 4.74608448e-01,\n",
       "        1.98019802e+00, 2.08441897e+00, 9.88915663e+02, 0.00000000e+00,\n",
       "        6.07760636e+00, 0.00000000e+00],\n",
       "       [9.74184121e-01, 1.69995750e+00, 3.89673648e+00, 3.79686758e+00,\n",
       "        2.47524752e+00, 0.00000000e+00, 4.81927711e-01, 9.73033708e+02,\n",
       "        2.80504909e+00, 3.40466926e+00],\n",
       "       [4.87092060e+00, 1.27496813e+00, 4.87092060e-01, 2.84765069e+00,\n",
       "        2.47524752e+00, 2.08441897e+00, 4.81927711e-01, 4.49438202e-01,\n",
       "        9.39691445e+02, 5.35019455e+00],\n",
       "       [1.46127618e+00, 1.69995750e+00, 0.00000000e+00, 4.74608448e+00,\n",
       "        3.96039604e+00, 2.08441897e+00, 0.00000000e+00, 9.88764045e+00,\n",
       "        9.81767181e+00, 9.67412451e+02]])"
      ]
     },
     "execution_count": 74,
     "metadata": {},
     "output_type": "execute_result"
    }
   ],
   "source": [
    "result*1000"
   ]
  }
 ],
 "metadata": {
  "kernelspec": {
   "display_name": "Python 3 (ipykernel)",
   "language": "python",
   "name": "python3"
  },
  "language_info": {
   "codemirror_mode": {
    "name": "ipython",
    "version": 3
   },
   "file_extension": ".py",
   "mimetype": "text/x-python",
   "name": "python",
   "nbconvert_exporter": "python",
   "pygments_lexer": "ipython3",
   "version": "3.8.8"
  }
 },
 "nbformat": 4,
 "nbformat_minor": 5
}
